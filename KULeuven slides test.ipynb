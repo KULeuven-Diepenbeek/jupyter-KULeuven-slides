{
 "cells": [
  {
   "cell_type": "markdown",
   "id": "b774c6d4-f8fc-4773-8f5c-77aff758aac4",
   "metadata": {
    "KULeuvenSlides": {
     "slide_code": "structure"
    },
    "slideshow": {
     "slide_type": "slide"
    },
    "tags": []
   },
   "source": [
    "# Outline\n",
    "\n",
    "* Adding a title page\n",
    "* Selecting a template"
   ]
  },
  {
   "cell_type": "markdown",
   "id": "66b280e2-3996-4e1a-aba3-e09544e39880",
   "metadata": {
    "slideshow": {
     "slide_type": "slide"
    },
    "tags": []
   },
   "source": [
    "## Adding a title page\n",
    "\n",
    "a Title page is added by adding to the **notebook metadata** \n",
    "\n",
    "```\n",
    "\"KULeuvenSlides\": {\n",
    "        \"title\": \"test title\",\n",
    "        \"subtitle\": \"test subtitle\",\n",
    "        \"authors\": \"Jan Genoe\",\n",
    "        \"location\": \"Ergens\",\n",
    "        \"date\": \"Vandaag\"\n",
    "    },\n",
    "```\n",
    " \n",
    " Please do not forget to commit these changes to the jupyter notebook changes after adding this metadata. (The small **v** on top of the box)."
   ]
  },
  {
   "cell_type": "markdown",
   "id": "6c94a316-23a1-492f-863c-d2ad6b127402",
   "metadata": {
    "slideshow": {
     "slide_type": "slide"
    },
    "tags": []
   },
   "source": [
    "## Selecting a template\n",
    "\n",
    "A Template is added by adding to the **notebook metadata** \n",
    "\n",
    "\n",
    "```\n",
    "\"KULeuvenSlides\": {\n",
    "        \"kuleuven_presentation_style\": \"Normal\"\n",
    "    },\n",
    "```    \n",
    "\n",
    "These slides are using the \"Normal\" template.\n",
    "The following templates are available:\n",
    "\n",
    "* Sedes\n",
    "* Normal \n",
    "* 1425  (the key)\n",
    "    \n",
    "Please do not forget to commit changes after adding metadata. (The small **v** on top of the box)."
   ]
  },
  {
   "cell_type": "code",
   "execution_count": null,
   "id": "def25927-391a-4dc9-a1eb-fa0b3fa24423",
   "metadata": {},
   "outputs": [],
   "source": []
  }
 ],
 "metadata": {
  "KULeuvenSlides": {
   "authors": "Jan Genoe",
   "date": "Vandaag",
   "location": "Ergens",
   "subtitle": "test subtitle",
   "title": "test title"
  },
  "citation-manager": {
   "items": {}
  },
  "kernelspec": {
   "display_name": "Python 3 (ipykernel)",
   "language": "python",
   "name": "python3"
  },
  "language_info": {
   "codemirror_mode": {
    "name": "ipython",
    "version": 3
   },
   "file_extension": ".py",
   "mimetype": "text/x-python",
   "name": "python",
   "nbconvert_exporter": "python",
   "pygments_lexer": "ipython3",
   "version": "3.9.13"
  },
  "widgets": {
   "application/vnd.jupyter.widget-state+json": {
    "state": {},
    "version_major": 2,
    "version_minor": 0
   }
  }
 },
 "nbformat": 4,
 "nbformat_minor": 5
}
